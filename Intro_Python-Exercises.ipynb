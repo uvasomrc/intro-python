{
 "cells": [
  {
   "cell_type": "markdown",
   "metadata": {},
   "source": [
    "# Python: Intro\n",
    "## Beginner Exercises"
   ]
  },
  {
   "cell_type": "markdown",
   "metadata": {},
   "source": [
    "### Exercise 1\n",
    "(Lists, Data Types)\n",
    "\n",
    "Below are 10 variables with different data types. Create a list for each data type, containing all the variables of that data type. (For example, create a list called `my_ints` containing all of the integer variables below. Repeat for the other data types: floats, strings, booleans.) If you wish to double-check a variable's type, feel free to use `type()`."
   ]
  },
  {
   "cell_type": "code",
   "execution_count": null,
   "metadata": {
    "collapsed": true
   },
   "outputs": [],
   "source": [
    "a = \"squirrel\"\n",
    "b = 10\n",
    "c = 3.14159\n",
    "d = 12345\n",
    "e = 6.022e23\n",
    "f = True\n",
    "g = \"chicken\"\n",
    "h = False\n",
    "i = 42\n",
    "j = 8.0\n",
    "\n",
    "# Place your lists here:\n"
   ]
  },
  {
   "cell_type": "markdown",
   "metadata": {},
   "source": [
    "### Exercise 2\n",
    "\n",
    "(Math Operators)\n",
    "\n",
    "Perform the following math operations. Replace `None` in the code cell below with the appropriate equations.\n",
    "<img src=\"images/OrderOfOps.png\" style=\"width:50%;height:50%\"></img>"
   ]
  },
  {
   "cell_type": "code",
   "execution_count": null,
   "metadata": {
    "collapsed": true
   },
   "outputs": [],
   "source": [
    "# Equation 1\n",
    "eq1 = None\n",
    "print(eq1)\n",
    "\n",
    "# Equation 2\n",
    "eq2 = None\n",
    "print(eq2)\n",
    "\n",
    "# Equation 3\n",
    "eq3 = None\n",
    "print(eq3)\n",
    "\n",
    "# Equation 4\n",
    "eq4 = None\n",
    "print(eq4)\n",
    "\n",
    "# Equation 5\n",
    "eq5 = None\n",
    "print(eq5)\n",
    "\n",
    "# Equation 6\n",
    "eq6 = None\n",
    "print(eq6)\n",
    "\n",
    "# Equation 7\n",
    "eq7 = None\n",
    "print(eq7)\n",
    "\n",
    "# Equation 8\n",
    "eq8 = None\n",
    "print(eq8)"
   ]
  },
  {
   "cell_type": "markdown",
   "metadata": {},
   "source": [
    "### Exercise 3\n",
    "\n",
    "(While Loops)\n",
    "\n",
    "Create a while loop that subtracts 1 from `x` until `x` has a value of 2. At the end of the loop, print the value of `x`."
   ]
  },
  {
   "cell_type": "code",
   "execution_count": null,
   "metadata": {
    "collapsed": true
   },
   "outputs": [],
   "source": [
    "x = 10\n",
    "print(\"x = \" + str(x))\n",
    "\n",
    "# Write your while loop below\n"
   ]
  },
  {
   "cell_type": "markdown",
   "metadata": {},
   "source": [
    "### Exercise 4\n",
    "\n",
    "(While Loops)\n",
    "\n",
    "Create a while loop that multiplies `y` by 2 until `y` is greater than 100. Print the value of `y` for each iteration of the while loop."
   ]
  },
  {
   "cell_type": "code",
   "execution_count": null,
   "metadata": {
    "collapsed": true
   },
   "outputs": [],
   "source": [
    "y = 2\n",
    "print(\"y = \" + str(y))\n",
    "\n",
    "# Write your while loop below\n"
   ]
  },
  {
   "cell_type": "markdown",
   "metadata": {},
   "source": [
    "### Exercise 5\n",
    "\n",
    "(For Loops)\n",
    "\n",
    "Iteratively print the square for numbers 0 through 10. You can use multiplication or exponents."
   ]
  },
  {
   "cell_type": "code",
   "execution_count": null,
   "metadata": {
    "collapsed": true
   },
   "outputs": [],
   "source": [
    "# Put your for loop here\n"
   ]
  },
  {
   "cell_type": "markdown",
   "metadata": {},
   "source": [
    "### Exercise 6\n",
    "\n",
    "(For Loops, If Statements)\n",
    "\n",
    "For each number 0 through 100, print the number ONLY if it is divisible by 7 (Use the modulus operator %)."
   ]
  },
  {
   "cell_type": "code",
   "execution_count": null,
   "metadata": {
    "collapsed": true
   },
   "outputs": [],
   "source": [
    "# Put your for loop here\n"
   ]
  },
  {
   "cell_type": "markdown",
   "metadata": {},
   "source": [
    "### Exercise 7\n",
    "\n",
    "(For Loops, If Statements, Dictionaries)\n",
    "\n",
    "Below is a dictionary of available treats at the pet store. The veterinarian says your cat needs to go on a diet and that you should only feed it treats that have 30 or fewer calories per serving. Create a shopping list containing all the possible treats that you can feed to your cat. Also create a list of treats to avoid (treats containing greater than 30 calories). Print both lists."
   ]
  },
  {
   "cell_type": "code",
   "execution_count": null,
   "metadata": {
    "collapsed": true
   },
   "outputs": [],
   "source": [
    "# This dictionary contains the available treats and their calorie count. Do not edit this!\n",
    "all_treats = {\"salmon\": 50, \"catnip\": 10, \"tuna\": 30, \"cheese\": 45, \"chicken\": 25, \"turkey\": 28, \"shrimp\": 20, \"lobster\": 70, \"grass\": 5, \"greenies\": 40, \"cookies\": 35, \"whitefish\": 20, \"duck\": 30}\n",
    "\n",
    "# Below is your empty shopping list\n",
    "shopping_list = []\n",
    "\n",
    "# Here is your currently empty list of treats to avoid.\n",
    "avoid_these = []\n",
    "\n",
    "# Using a for loop and if statement, add treats to the appropriate lists\n"
   ]
  },
  {
   "cell_type": "markdown",
   "metadata": {},
   "source": [
    "### Exercise 8\n",
    "\n",
    "(Lists)  \n",
    "\n",
    "```\n",
    "a=[1,2,3] \n",
    "b = a[:]\n",
    "c = a\n",
    "b[0] = 5\n",
    "c[1] = 10\n",
    "```\n",
    "\n",
    "Print the values of a, b and c."
   ]
  },
  {
   "cell_type": "code",
   "execution_count": 1,
   "metadata": {},
   "outputs": [
    {
     "name": "stdout",
     "output_type": "stream",
     "text": [
      "List a: [1, 10, 3]\n",
      "List b: [5, 2, 3]\n",
      "List c: [1, 10, 3]\n"
     ]
    }
   ],
   "source": [
    "a = [1,2,3]\n",
    "\n",
    "# copy lists\n",
    "b = a[:]\n",
    "c = a \n",
    "\n",
    "b[0] = 5\n",
    "c[1] = 10\n",
    "\n",
    "print(\"List a:\", a)\n",
    "print(\"List b:\", b)\n",
    "print(\"List c:\", c)"
   ]
  },
  {
   "cell_type": "markdown",
   "metadata": {},
   "source": [
    "### Exercise 9  \n",
    "\n",
    "(Lists, Modules)\n",
    "\n",
    "Create a list containing 100 random integers between 0 and 1000. Compute the average of the list of numbers.  \n",
    "\n",
    "Hint:  \n",
    "- use `random.sample` function to create a random list\n",
    "- use `statistics.mean` function to calculate the mean"
   ]
  },
  {
   "cell_type": "code",
   "execution_count": null,
   "metadata": {
    "collapsed": true
   },
   "outputs": [],
   "source": []
  },
  {
   "cell_type": "markdown",
   "metadata": {},
   "source": [
    "### Exercise 10\n",
    "\n",
    "`myStr = \"The quick brown fox jumped over the lazy dog.\"`  \n",
    "\n",
    "Convert the string `myStr` to a list `myList`,  \n",
    "delete the word \"brown\" using `del myList[LOCATION]`,  \n",
    "print the list"
   ]
  },
  {
   "cell_type": "code",
   "execution_count": null,
   "metadata": {
    "collapsed": true
   },
   "outputs": [],
   "source": []
  },
  {
   "cell_type": "markdown",
   "metadata": {},
   "source": [
    "### Exercise 11\n",
    "\n",
    "Lists, Modules\n",
    "\n",
    "Create two lists (of varying lengths) containing random integers between 0 and 10.  \n",
    "Write a function that returns a list of elements common to both"
   ]
  },
  {
   "cell_type": "code",
   "execution_count": null,
   "metadata": {
    "collapsed": true
   },
   "outputs": [],
   "source": []
  }
 ],
 "metadata": {
  "kernelspec": {
   "display_name": "Python 3",
   "language": "python",
   "name": "python3"
  },
  "language_info": {
   "codemirror_mode": {
    "name": "ipython",
    "version": 3
   },
   "file_extension": ".py",
   "mimetype": "text/x-python",
   "name": "python",
   "nbconvert_exporter": "python",
   "pygments_lexer": "ipython3",
   "version": "3.6.3"
  }
 },
 "nbformat": 4,
 "nbformat_minor": 2
}
