{
 "cells": [
  {
   "cell_type": "markdown",
   "metadata": {},
   "source": [
    "# Python: Intro\n",
    "## Beginner Exercises"
   ]
  },
  {
   "cell_type": "markdown",
   "metadata": {},
   "source": [
    "### Beginner Exercise 1\n",
    "(Lists, Data Types)\n",
    "\n",
    "Below are 10 variables with different data types. Create a list for each data type, containing all the variables of that data type. (For example, create a list called `my_ints` containing all of the integer variables below. Repeat for the other data types: floats, strings, booleans.) If you wish to double-check a variable's type, feel free to use `type()`."
   ]
  },
  {
   "cell_type": "code",
   "execution_count": null,
   "metadata": {
    "collapsed": true
   },
   "outputs": [],
   "source": [
    "a = \"squirrel\"\n",
    "b = 10\n",
    "c = 3.14159\n",
    "d = 12345\n",
    "e = 6.022e23\n",
    "f = True\n",
    "g = \"chicken\"\n",
    "h = False\n",
    "i = 42\n",
    "j = 8.0\n",
    "\n",
    "# Place your lists here:\n",
    "my_ints    = [b, d]\n",
    "my_floats  = [c, e, j]\n",
    "my_strings = [a, g]\n",
    "my_bools   = [f, h]"
   ]
  },
  {
   "cell_type": "markdown",
   "metadata": {},
   "source": [
    "### Beginner Exercise 2\n",
    "\n",
    "(Math Operators)\n",
    "\n",
    "Perform the following math operations. Replace `None` in the code cell below with the appropriate equations.\n",
    "<img src=\"images/OrderOfOps.png\" style=\"width:50%;height:50%\"></img>"
   ]
  },
  {
   "cell_type": "code",
   "execution_count": null,
   "metadata": {
    "collapsed": true
   },
   "outputs": [],
   "source": [
    "# Equation 1\n",
    "eq1 = 3 + 5**2 - 2\n",
    "print(eq1)\n",
    "\n",
    "# Equation 2\n",
    "eq2 = (-3 + 2) + 8/2 * 4\n",
    "print(eq2)\n",
    "\n",
    "# Equation 3\n",
    "eq3 = (2 - 5) + 4**2 - 10/5\n",
    "print(eq3)\n",
    "\n",
    "# Equation 4\n",
    "eq4 = 3 + 5 - (-1)*7\n",
    "print(eq4)\n",
    "\n",
    "# Equation 5\n",
    "eq5 = (4 - 1)**2 + 15/3 - 1\n",
    "print(eq5)\n",
    "\n",
    "# Equation 6\n",
    "eq6 = (5+7)/4 - 1 + 3**2 * 2\n",
    "print(eq6)\n",
    "\n",
    "# Equation 7\n",
    "eq7 = 10 - (3+4/2)**2 + 15\n",
    "print(eq7)\n",
    "\n",
    "# Equation 8\n",
    "eq8 = (5*2)/(4-3) - 8 + (-1)**2 - 4\n",
    "print(eq8)"
   ]
  },
  {
   "cell_type": "markdown",
   "metadata": {},
   "source": [
    "### Beginner Exercise 3\n",
    "\n",
    "(While Loops)\n",
    "\n",
    "Create a while loop that subtracts 1 from `x` until `x` has a value of 2. At the end of the loop, print the value of `x`."
   ]
  },
  {
   "cell_type": "code",
   "execution_count": null,
   "metadata": {
    "collapsed": true
   },
   "outputs": [],
   "source": [
    "x = 10\n",
    "print(\"x = \" + str(x))\n",
    "\n",
    "# Write your while loop below\n",
    "while x > 2:\n",
    "    x = x - 1\n",
    "    \n",
    "print(\"x = \" + str(x))"
   ]
  },
  {
   "cell_type": "markdown",
   "metadata": {},
   "source": [
    "### Beginner Exercise 4\n",
    "\n",
    "(While Loops)\n",
    "\n",
    "Create a while loop that multiplies `y` by 2 until `y` is greater than 100. Print the value of `y` for each iteration of the while loop."
   ]
  },
  {
   "cell_type": "code",
   "execution_count": null,
   "metadata": {
    "collapsed": true
   },
   "outputs": [],
   "source": [
    "y = 2\n",
    "print(\"y = \" + str(y))\n",
    "\n",
    "# Write your while loop below\n",
    "while y < 100:\n",
    "    y = y*2\n",
    "    print(\"y = \" + str(y))"
   ]
  },
  {
   "cell_type": "markdown",
   "metadata": {},
   "source": [
    "### Beginner Exercise 5\n",
    "\n",
    "(For Loops)\n",
    "\n",
    "Iteratively print the square for numbers 0 through 10. You can use multiplication or exponents."
   ]
  },
  {
   "cell_type": "code",
   "execution_count": null,
   "metadata": {
    "collapsed": true
   },
   "outputs": [],
   "source": [
    "# Put your for loop here\n",
    "for x in range(11):\n",
    "    print(x**2)"
   ]
  },
  {
   "cell_type": "markdown",
   "metadata": {},
   "source": [
    "### Beginner Exercise 6\n",
    "\n",
    "(For Loops, If Statements)\n",
    "\n",
    "For each number 0 through 100, print the number ONLY if it is divisible by 7 (Use the modulus operator %)."
   ]
  },
  {
   "cell_type": "code",
   "execution_count": null,
   "metadata": {
    "collapsed": true
   },
   "outputs": [],
   "source": [
    "# Put your for loop here\n",
    "for x in range(101):\n",
    "    if x%7==0:\n",
    "        print(x)"
   ]
  },
  {
   "cell_type": "markdown",
   "metadata": {},
   "source": [
    "### Beginner Exercise 7\n",
    "\n",
    "(For Loops, If Statements, Dictionaries)\n",
    "\n",
    "Below is a dictionary of available treats at the pet store. The veterinarian says your cat needs to go on a diet and that you should only feed it treats that have 30 or fewer calories per serving. Create a shopping list containing all the possible treats that you can feed to your cat. Also create a list of treats to avoid (treats containing greater than 30 calories). Print both lists."
   ]
  },
  {
   "cell_type": "code",
   "execution_count": null,
   "metadata": {
    "collapsed": true
   },
   "outputs": [],
   "source": [
    "# This dictionary contains the available treats and their calorie count. Do not edit this!\n",
    "all_treats = {\"salmon\": 50, \"catnip\": 10, \"tuna\": 30, \"cheese\": 45, \"chicken\": 25, \"turkey\": 28, \"shrimp\": 20, \"lobster\": 70, \"grass\": 5, \"greenies\": 40, \"cookies\": 35, \"whitefish\": 20, \"duck\": 30}\n",
    "\n",
    "# Below is your empty shopping list\n",
    "shopping_list = []\n",
    "\n",
    "# Here is your currently empty list of treats to avoid.\n",
    "avoid_these = []\n",
    "\n",
    "# Using a for loop and if statement, add treats to the appropriate lists\n",
    "for treat in all_treats:\n",
    "    if all_treats[treat] <= 30:\n",
    "        shopping_list.append(treat)\n",
    "    else:\n",
    "        avoid_these.append(treat)\n",
    "        \n",
    "print(shopping_list)\n",
    "print(avoid_these)"
   ]
  },
  {
   "cell_type": "markdown",
   "metadata": {},
   "source": [
    "### Exercise 8\n",
    "\n",
    "(Lists)  \n",
    "\n",
    "```\n",
    "a=[1,2,3] \n",
    "b = a[:]\n",
    "c = a\n",
    "b[0] = 5\n",
    "c[1] = 10\n",
    "```\n",
    "\n",
    "Print the values of a, b and c."
   ]
  },
  {
   "cell_type": "code",
   "execution_count": null,
   "metadata": {
    "collapsed": true
   },
   "outputs": [],
   "source": [
    "a=[1,2,3] \n",
    "\n",
    "# copy the list\n",
    "b = a[:]\n",
    "c = a\n",
    "\n",
    "# make changes to the elements\n",
    "b[0] = 5\n",
    "c[1] = 10\n",
    "\n",
    "# print values of a, b and c\n",
    "print(\"List a: \", a)\n",
    "print(\"List b: \", b)\n",
    "print(\"List c: \", c)"
   ]
  },
  {
   "cell_type": "markdown",
   "metadata": {},
   "source": [
    "Why did the value of `a[1]` change even though we did not make changes to `a`? "
   ]
  },
  {
   "cell_type": "markdown",
   "metadata": {},
   "source": [
    "### Exercise 9  \n",
    "\n",
    "(Lists, Modules)\n",
    "\n",
    "Create a list containing 100 random integers between 0 and 1000. Compute the average of the list of numbers.  \n",
    "\n",
    "Hint:  \n",
    "- use `random.sample` function to create a random list\n",
    "- use `statistics.mean` function to calculate the mean"
   ]
  },
  {
   "cell_type": "code",
   "execution_count": null,
   "metadata": {
    "collapsed": true
   },
   "outputs": [],
   "source": [
    "# import modules\n",
    "import random\n",
    "from statistics import *\n",
    "\n",
    "# create a random list of 100 integers between 0 - 1000 \n",
    "myList = random.sample(range(0, 1000), 100)\n",
    "\n",
    "# calculate the mean\n",
    "m = mean(myList)\n",
    "\n",
    "# print the mean\n",
    "print(\"Mean of the random list: %f\" % m)"
   ]
  },
  {
   "cell_type": "markdown",
   "metadata": {},
   "source": [
    "### Exercise 10\n",
    "\n",
    "`myStr = \"The quick brown fox jumped over the lazy dog.\"`  \n",
    "\n",
    "Convert the string `myStr` to a list `myList`,  \n",
    "delete the word \"brown\" using `del myList[LOCATION]`,  \n",
    "print the list"
   ]
  },
  {
   "cell_type": "code",
   "execution_count": null,
   "metadata": {
    "collapsed": true
   },
   "outputs": [],
   "source": [
    "# create the string\n",
    "myStr = \"The quick brown fox jumped over the lazy dog.\"\n",
    "\n",
    "# split it into a list\n",
    "myArr = myStr.split(\" \")\n",
    "\n",
    "# print the list\n",
    "print(\"Original list: \", myArr)\n",
    "\n",
    "# Optional:\n",
    "### use the enumerate function to\n",
    "### print the list with the index\n",
    "\n",
    "#for i,x in enumerate(myArr):\n",
    "#    print(\"Index: %d, Value: %s\" % (i,x))\n",
    "\n",
    "   \n",
    "# delete the word \"brown\" at index 2\n",
    "del myArr[2]\n",
    "\n",
    "# print the modified list\n",
    "print(\"Modified list: \", myArr)"
   ]
  },
  {
   "cell_type": "markdown",
   "metadata": {},
   "source": [
    "### Exercise 11\n",
    "\n",
    "Lists, Modules\n",
    "\n",
    "Create two lists (of varying lengths) containing random integers between 0 and 10.  \n",
    "Write a function that returns a list of elements common to both"
   ]
  },
  {
   "cell_type": "code",
   "execution_count": null,
   "metadata": {
    "collapsed": true
   },
   "outputs": [],
   "source": [
    "# import modules\n",
    "import random\n",
    "\n",
    "# create the 2 lists\n",
    "list1 = random.sample(range(0,10), 7)\n",
    "list2 = random.sample(range(0,10), 5)\n",
    "\n",
    "# user-defined merge function\n",
    "def mergeLists(list1, list2):\n",
    "    mergedList = []\n",
    "    for x in list1:\n",
    "        if x in list2:\n",
    "            mergedList += [x]\n",
    "    return mergedList\n",
    "\n",
    "# call the function\n",
    "list3 = mergeLists(list1, list2)\n",
    "\n",
    "# print the output\n",
    "print(\"List1: \", list1)\n",
    "print(\"List2: \", list2)\n",
    "print(\"Merged List: \", list3)\n"
   ]
  }
 ],
 "metadata": {
  "kernelspec": {
   "display_name": "Python 3",
   "language": "python",
   "name": "python3"
  },
  "language_info": {
   "codemirror_mode": {
    "name": "ipython",
    "version": 3
   },
   "file_extension": ".py",
   "mimetype": "text/x-python",
   "name": "python",
   "nbconvert_exporter": "python",
   "pygments_lexer": "ipython3",
   "version": "3.6.3"
  }
 },
 "nbformat": 4,
 "nbformat_minor": 2
}
